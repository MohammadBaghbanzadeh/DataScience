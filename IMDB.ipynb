{
  "nbformat": 4,
  "nbformat_minor": 0,
  "metadata": {
    "colab": {
      "provenance": []
    },
    "kernelspec": {
      "name": "python3",
      "display_name": "Python 3"
    },
    "language_info": {
      "name": "python"
    }
  },
  "cells": [
    {
      "cell_type": "code",
      "execution_count": 53,
      "metadata": {
        "colab": {
          "base_uri": "https://localhost:8080/"
        },
        "id": "noFLnkigHxHS",
        "outputId": "8efa4010-73ae-4eaf-892b-1afc9cb49e09"
      },
      "outputs": [
        {
          "output_type": "stream",
          "name": "stdout",
          "text": [
            "Looking in indexes: https://pypi.org/simple, https://us-python.pkg.dev/colab-wheels/public/simple/\n",
            "Requirement already satisfied: numpy in /usr/local/lib/python3.10/dist-packages (1.22.4)\n",
            "Requirement already satisfied: pandas in /usr/local/lib/python3.10/dist-packages (1.5.3)\n",
            "Requirement already satisfied: scikit-learn in /usr/local/lib/python3.10/dist-packages (1.2.2)\n",
            "Requirement already satisfied: nltk in /usr/local/lib/python3.10/dist-packages (3.8.1)\n",
            "Requirement already satisfied: python-dateutil>=2.8.1 in /usr/local/lib/python3.10/dist-packages (from pandas) (2.8.2)\n",
            "Requirement already satisfied: pytz>=2020.1 in /usr/local/lib/python3.10/dist-packages (from pandas) (2022.7.1)\n",
            "Requirement already satisfied: scipy>=1.3.2 in /usr/local/lib/python3.10/dist-packages (from scikit-learn) (1.10.1)\n",
            "Requirement already satisfied: joblib>=1.1.1 in /usr/local/lib/python3.10/dist-packages (from scikit-learn) (1.2.0)\n",
            "Requirement already satisfied: threadpoolctl>=2.0.0 in /usr/local/lib/python3.10/dist-packages (from scikit-learn) (3.1.0)\n",
            "Requirement already satisfied: click in /usr/local/lib/python3.10/dist-packages (from nltk) (8.1.3)\n",
            "Requirement already satisfied: regex>=2021.8.3 in /usr/local/lib/python3.10/dist-packages (from nltk) (2022.10.31)\n",
            "Requirement already satisfied: tqdm in /usr/local/lib/python3.10/dist-packages (from nltk) (4.65.0)\n",
            "Requirement already satisfied: six>=1.5 in /usr/local/lib/python3.10/dist-packages (from python-dateutil>=2.8.1->pandas) (1.16.0)\n"
          ]
        }
      ],
      "source": [
        "!pip install numpy pandas scikit-learn nltk"
      ]
    },
    {
      "cell_type": "code",
      "source": [
        "import pandas as pd\n",
        "import nltk\n",
        "from nltk.tokenize import word_tokenize\n",
        "from nltk.corpus import stopwords\n",
        "from sklearn.feature_extraction.text import CountVectorizer\n",
        "from sklearn.neighbors import KNeighborsClassifier\n",
        "from sklearn.metrics import accuracy_score"
      ],
      "metadata": {
        "id": "ojOMUzV_Q13D"
      },
      "execution_count": 54,
      "outputs": []
    },
    {
      "cell_type": "code",
      "source": [
        "nltk.download('stopwords')\n",
        "nltk.download('punkt')"
      ],
      "metadata": {
        "colab": {
          "base_uri": "https://localhost:8080/"
        },
        "id": "-SZvv7wGKGsc",
        "outputId": "edeab58b-cfe8-43bf-ec4b-230bf99fb4ed"
      },
      "execution_count": 55,
      "outputs": [
        {
          "output_type": "stream",
          "name": "stderr",
          "text": [
            "[nltk_data] Downloading package stopwords to /root/nltk_data...\n",
            "[nltk_data]   Package stopwords is already up-to-date!\n",
            "[nltk_data] Downloading package punkt to /root/nltk_data...\n",
            "[nltk_data]   Unzipping tokenizers/punkt.zip.\n"
          ]
        },
        {
          "output_type": "execute_result",
          "data": {
            "text/plain": [
              "True"
            ]
          },
          "metadata": {},
          "execution_count": 55
        }
      ]
    },
    {
      "cell_type": "code",
      "source": [
        "# Read data\n",
        "train_df = pd.read_csv(\"/content/drive/MyDrive/imdb_train.csv\")\n",
        "test_df = pd.read_csv(\"/content/drive/MyDrive/imdb_test.csv\")\n",
        "\n",
        "train_feature = train_df[\"text\"]\n",
        "train_label = train_df[\"label\"]\n",
        "\n",
        "test_feature = test_df[\"text\"]\n",
        "test_label = test_df[\"label\"]"
      ],
      "metadata": {
        "id": "3UGPNJgvH38r"
      },
      "execution_count": 56,
      "outputs": []
    },
    {
      "cell_type": "code",
      "source": [
        "# Preprocess data\n",
        "stop_words = list(stopwords.words('english'))\n",
        "\n",
        "vectorizer_binary = CountVectorizer(binary=True, stop_words=stop_words, tokenizer=word_tokenize)\n",
        "train_feature_binary = vectorizer_binary.fit_transform(train_feature)\n",
        "test_feature_binary = vectorizer_binary.transform(test_feature)\n",
        "\n",
        "vectorizer_tf_idf = CountVectorizer(stop_words=stop_words, tokenizer=word_tokenize)\n",
        "train_feature_tf_idf = vectorizer_tf_idf.fit_transform(train_feature)\n",
        "test_feature_tf_idf = vectorizer_tf_idf.transform(test_feature)"
      ],
      "metadata": {
        "colab": {
          "base_uri": "https://localhost:8080/"
        },
        "id": "hbnhACV1KkIF",
        "outputId": "b0a27b3f-f061-4096-87e3-e765011e29dd"
      },
      "execution_count": 57,
      "outputs": [
        {
          "output_type": "stream",
          "name": "stderr",
          "text": [
            "/usr/local/lib/python3.10/dist-packages/sklearn/feature_extraction/text.py:528: UserWarning: The parameter 'token_pattern' will not be used since 'tokenizer' is not None'\n",
            "  warnings.warn(\n",
            "/usr/local/lib/python3.10/dist-packages/sklearn/feature_extraction/text.py:409: UserWarning: Your stop_words may be inconsistent with your preprocessing. Tokenizing the stop words generated tokens [\"'d\", \"'ll\", \"'re\", \"'s\", \"'ve\", 'could', 'might', 'must', \"n't\", 'need', 'sha', 'wo', 'would'] not in stop_words.\n",
            "  warnings.warn(\n"
          ]
        }
      ]
    },
    {
      "cell_type": "code",
      "source": [
        "# Train and predict using KNN classifier\n",
        "knn_classifier_binary = KNeighborsClassifier()\n",
        "knn_classifier_binary.fit(train_feature_binary, train_label)\n",
        "pred_binary = knn_classifier_binary.predict(test_feature_binary)\n",
        "accuracy_binary = accuracy_score(test_label, pred_binary)\n",
        "\n",
        "knn_classifier_tf_idf = KNeighborsClassifier()\n",
        "knn_classifier_tf_idf.fit(train_feature_tf_idf, train_label)\n",
        "pred_tf_idf = knn_classifier_tf_idf.predict(test_feature_tf_idf)\n",
        "accuracy_tf_idf = accuracy_score(test_label, pred_tf_idf)"
      ],
      "metadata": {
        "id": "EOGlBrNgMxpY"
      },
      "execution_count": 58,
      "outputs": []
    },
    {
      "cell_type": "code",
      "source": [
        "# Print accuracies of binary and TF-IDF methods\n",
        "print(\"Accuracy score with binary method:\", accuracy_binary)\n",
        "print(\"Accuracy score with TF-IDF method:\", accuracy_tf_idf)\n",
        "\n",
        "# Determine which method has a higher accuracy\n",
        "if accuracy_binary > accuracy_tf_idf:\n",
        "    print(\"Binary method has the higher accuracy.\")\n",
        "else:\n",
        "    print(\"TF-IDF method has the higher accuracy.\")"
      ],
      "metadata": {
        "colab": {
          "base_uri": "https://localhost:8080/"
        },
        "id": "WUb_-vr7TkVD",
        "outputId": "053d3eba-1b5d-45db-fa51-f8a25e8c923e"
      },
      "execution_count": 59,
      "outputs": [
        {
          "output_type": "stream",
          "name": "stdout",
          "text": [
            "Accuracy score with binary method: 0.6212\n",
            "Accuracy score with TF-IDF method: 0.5994\n",
            "Binary method has the higher accuracy.\n"
          ]
        }
      ]
    }
  ]
}